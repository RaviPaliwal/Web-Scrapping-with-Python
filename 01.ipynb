{
 "cells": [
  {
   "cell_type": "markdown",
   "id": "06d3c9de",
   "metadata": {},
   "source": [
    "<img src=\"img.jpg\">"
   ]
  },
  {
   "cell_type": "markdown",
   "id": "172c0b7d",
   "metadata": {},
   "source": [
    "<h1 style=\"color:green\"><Center>Lab 1 : Basics of WebScrapping & BeautifulSoup</Center></h1>"
   ]
  },
  {
   "cell_type": "code",
   "execution_count": 1,
   "id": "abca9222",
   "metadata": {},
   "outputs": [],
   "source": [
    "import pandas as pd\n",
    "from bs4 import BeautifulSoup"
   ]
  },
  {
   "cell_type": "code",
   "execution_count": 2,
   "id": "562d47b7",
   "metadata": {},
   "outputs": [],
   "source": [
    "with open ('index.html' , 'r') as file:\n",
    "    html_content = file.read()"
   ]
  },
  {
   "cell_type": "code",
   "execution_count": 3,
   "id": "7b2a094b",
   "metadata": {},
   "outputs": [],
   "source": [
    "soup = BeautifulSoup(html_content,'html.parser')"
   ]
  },
  {
   "cell_type": "code",
   "execution_count": 4,
   "id": "9da3977b",
   "metadata": {},
   "outputs": [
    {
     "data": {
      "text/plain": [
       "<!DOCTYPE html>\n",
       "\n",
       "<html lang=\"en\">\n",
       "<head>\n",
       "<meta charset=\"utf-8\"/>\n",
       "<meta content=\"width=device-width, initial-scale=1.0\" name=\"viewport\"/>\n",
       "<title>Simple Table Example</title>\n",
       "</head>\n",
       "<body>\n",
       "<h2 style=\"text-align: center;\">Employee Table</h2>\n",
       "<div style=\"display: flex; justify-content: center;\">\n",
       "<table border=\"1\" style=\"text-align: center;\">\n",
       "<tr>\n",
       "<th>Name</th>\n",
       "<th>Age</th>\n",
       "<th>City</th>\n",
       "<th>Gender</th>\n",
       "<th>Graduation Year</th>\n",
       "<th>Profession</th>\n",
       "<th>Salary</th>\n",
       "</tr>\n",
       "<tr>\n",
       "<td>John Doe</td>\n",
       "<td>25</td>\n",
       "<td>New York</td>\n",
       "<td>Male</td>\n",
       "<td>2020</td>\n",
       "<td>Software Engineer</td>\n",
       "<td>$80,000</td>\n",
       "</tr>\n",
       "<tr>\n",
       "<td>Jane Smith</td>\n",
       "<td>30</td>\n",
       "<td>Los Angeles</td>\n",
       "<td>Female</td>\n",
       "<td>2018</td>\n",
       "<td>Marketing Specialist</td>\n",
       "<td>$65,000</td>\n",
       "</tr>\n",
       "<tr>\n",
       "<td>Bob Johnson</td>\n",
       "<td>28</td>\n",
       "<td>Chicago</td>\n",
       "<td>Male</td>\n",
       "<td>2019</td>\n",
       "<td>Teacher</td>\n",
       "<td>$55,000</td>\n",
       "</tr>\n",
       "<tr>\n",
       "<td>John Doe</td>\n",
       "<td>25</td>\n",
       "<td>New York</td>\n",
       "<td>Male</td>\n",
       "<td>2020</td>\n",
       "<td>Software Engineer</td>\n",
       "<td>$80,000</td>\n",
       "</tr>\n",
       "</table>\n",
       "</div>\n",
       "</body>\n",
       "</html>"
      ]
     },
     "execution_count": 4,
     "metadata": {},
     "output_type": "execute_result"
    }
   ],
   "source": [
    "soup"
   ]
  },
  {
   "cell_type": "code",
   "execution_count": 5,
   "id": "1c21684b",
   "metadata": {},
   "outputs": [
    {
     "name": "stdout",
     "output_type": "stream",
     "text": [
      "<!DOCTYPE html>\n",
      "<html lang=\"en\">\n",
      " <head>\n",
      "  <meta charset=\"utf-8\"/>\n",
      "  <meta content=\"width=device-width, initial-scale=1.0\" name=\"viewport\"/>\n",
      "  <title>\n",
      "   Simple Table Example\n",
      "  </title>\n",
      " </head>\n",
      " <body>\n",
      "  <h2 style=\"text-align: center;\">\n",
      "   Employee Table\n",
      "  </h2>\n",
      "  <div style=\"display: flex; justify-content: center;\">\n",
      "   <table border=\"1\" style=\"text-align: center;\">\n",
      "    <tr>\n",
      "     <th>\n",
      "      Name\n",
      "     </th>\n",
      "     <th>\n",
      "      Age\n",
      "     </th>\n",
      "     <th>\n",
      "      City\n",
      "     </th>\n",
      "     <th>\n",
      "      Gender\n",
      "     </th>\n",
      "     <th>\n",
      "      Graduation Year\n",
      "     </th>\n",
      "     <th>\n",
      "      Profession\n",
      "     </th>\n",
      "     <th>\n",
      "      Salary\n",
      "     </th>\n",
      "    </tr>\n",
      "    <tr>\n",
      "     <td>\n",
      "      John Doe\n",
      "     </td>\n",
      "     <td>\n",
      "      25\n",
      "     </td>\n",
      "     <td>\n",
      "      New York\n",
      "     </td>\n",
      "     <td>\n",
      "      Male\n",
      "     </td>\n",
      "     <td>\n",
      "      2020\n",
      "     </td>\n",
      "     <td>\n",
      "      Software Engineer\n",
      "     </td>\n",
      "     <td>\n",
      "      $80,000\n",
      "     </td>\n",
      "    </tr>\n",
      "    <tr>\n",
      "     <td>\n",
      "      Jane Smith\n",
      "     </td>\n",
      "     <td>\n",
      "      30\n",
      "     </td>\n",
      "     <td>\n",
      "      Los Angeles\n",
      "     </td>\n",
      "     <td>\n",
      "      Female\n",
      "     </td>\n",
      "     <td>\n",
      "      2018\n",
      "     </td>\n",
      "     <td>\n",
      "      Marketing Specialist\n",
      "     </td>\n",
      "     <td>\n",
      "      $65,000\n",
      "     </td>\n",
      "    </tr>\n",
      "    <tr>\n",
      "     <td>\n",
      "      Bob Johnson\n",
      "     </td>\n",
      "     <td>\n",
      "      28\n",
      "     </td>\n",
      "     <td>\n",
      "      Chicago\n",
      "     </td>\n",
      "     <td>\n",
      "      Male\n",
      "     </td>\n",
      "     <td>\n",
      "      2019\n",
      "     </td>\n",
      "     <td>\n",
      "      Teacher\n",
      "     </td>\n",
      "     <td>\n",
      "      $55,000\n",
      "     </td>\n",
      "    </tr>\n",
      "    <tr>\n",
      "     <td>\n",
      "      John Doe\n",
      "     </td>\n",
      "     <td>\n",
      "      25\n",
      "     </td>\n",
      "     <td>\n",
      "      New York\n",
      "     </td>\n",
      "     <td>\n",
      "      Male\n",
      "     </td>\n",
      "     <td>\n",
      "      2020\n",
      "     </td>\n",
      "     <td>\n",
      "      Software Engineer\n",
      "     </td>\n",
      "     <td>\n",
      "      $80,000\n",
      "     </td>\n",
      "    </tr>\n",
      "   </table>\n",
      "  </div>\n",
      " </body>\n",
      "</html>\n",
      "\n"
     ]
    }
   ],
   "source": [
    "print(soup.prettify())"
   ]
  },
  {
   "cell_type": "code",
   "execution_count": 8,
   "id": "627d6497",
   "metadata": {},
   "outputs": [
    {
     "data": {
      "text/plain": [
       "<title>Simple Table Example</title>"
      ]
     },
     "execution_count": 8,
     "metadata": {},
     "output_type": "execute_result"
    }
   ],
   "source": [
    "soup.title"
   ]
  },
  {
   "cell_type": "code",
   "execution_count": 9,
   "id": "8247e89f",
   "metadata": {},
   "outputs": [
    {
     "data": {
      "text/plain": [
       "<table border=\"1\" style=\"text-align: center;\">\n",
       "<tr>\n",
       "<th>Name</th>\n",
       "<th>Age</th>\n",
       "<th>City</th>\n",
       "<th>Gender</th>\n",
       "<th>Graduation Year</th>\n",
       "<th>Profession</th>\n",
       "<th>Salary</th>\n",
       "</tr>\n",
       "<tr>\n",
       "<td>John Doe</td>\n",
       "<td>25</td>\n",
       "<td>New York</td>\n",
       "<td>Male</td>\n",
       "<td>2020</td>\n",
       "<td>Software Engineer</td>\n",
       "<td>$80,000</td>\n",
       "</tr>\n",
       "<tr>\n",
       "<td>Jane Smith</td>\n",
       "<td>30</td>\n",
       "<td>Los Angeles</td>\n",
       "<td>Female</td>\n",
       "<td>2018</td>\n",
       "<td>Marketing Specialist</td>\n",
       "<td>$65,000</td>\n",
       "</tr>\n",
       "<tr>\n",
       "<td>Bob Johnson</td>\n",
       "<td>28</td>\n",
       "<td>Chicago</td>\n",
       "<td>Male</td>\n",
       "<td>2019</td>\n",
       "<td>Teacher</td>\n",
       "<td>$55,000</td>\n",
       "</tr>\n",
       "<tr>\n",
       "<td>John Doe</td>\n",
       "<td>25</td>\n",
       "<td>New York</td>\n",
       "<td>Male</td>\n",
       "<td>2020</td>\n",
       "<td>Software Engineer</td>\n",
       "<td>$80,000</td>\n",
       "</tr>\n",
       "</table>"
      ]
     },
     "execution_count": 9,
     "metadata": {},
     "output_type": "execute_result"
    }
   ],
   "source": [
    "soup.table"
   ]
  },
  {
   "cell_type": "code",
   "execution_count": 10,
   "id": "42c18708",
   "metadata": {},
   "outputs": [],
   "source": [
    "table = soup.find_all('table')\n",
    "rows = soup.find_all('tr')\n",
    "headers = [header.text for header in rows[0].find_all('th')]"
   ]
  },
  {
   "cell_type": "code",
   "execution_count": 11,
   "id": "712b9096",
   "metadata": {},
   "outputs": [],
   "source": [
    "data = []\n",
    "for row in rows[1:]:\n",
    "    cols = row.find_all('td')\n",
    "    cols = [ele.text.strip() for ele in cols]\n",
    "    data.append(cols)\n",
    "    "
   ]
  },
  {
   "cell_type": "code",
   "execution_count": 12,
   "id": "281b1847",
   "metadata": {},
   "outputs": [
    {
     "data": {
      "text/plain": [
       "['Name', 'Age', 'City', 'Gender', 'Graduation Year', 'Profession', 'Salary']"
      ]
     },
     "execution_count": 12,
     "metadata": {},
     "output_type": "execute_result"
    }
   ],
   "source": [
    "headers\n"
   ]
  },
  {
   "cell_type": "code",
   "execution_count": 13,
   "id": "bd6fd4bb",
   "metadata": {},
   "outputs": [
    {
     "data": {
      "text/plain": [
       "[['John Doe',\n",
       "  '25',\n",
       "  'New York',\n",
       "  'Male',\n",
       "  '2020',\n",
       "  'Software Engineer',\n",
       "  '$80,000'],\n",
       " ['Jane Smith',\n",
       "  '30',\n",
       "  'Los Angeles',\n",
       "  'Female',\n",
       "  '2018',\n",
       "  'Marketing Specialist',\n",
       "  '$65,000'],\n",
       " ['Bob Johnson', '28', 'Chicago', 'Male', '2019', 'Teacher', '$55,000'],\n",
       " ['John Doe',\n",
       "  '25',\n",
       "  'New York',\n",
       "  'Male',\n",
       "  '2020',\n",
       "  'Software Engineer',\n",
       "  '$80,000']]"
      ]
     },
     "execution_count": 13,
     "metadata": {},
     "output_type": "execute_result"
    }
   ],
   "source": [
    "data"
   ]
  },
  {
   "cell_type": "code",
   "execution_count": null,
   "id": "59dd0961",
   "metadata": {},
   "outputs": [],
   "source": [
    "df = pd.DataFrame(data, columns= headers)"
   ]
  },
  {
   "cell_type": "code",
   "execution_count": null,
   "id": "df1c7cf6",
   "metadata": {},
   "outputs": [],
   "source": [
    "df"
   ]
  },
  {
   "cell_type": "code",
   "execution_count": null,
   "id": "2aa26e60",
   "metadata": {},
   "outputs": [],
   "source": []
  },
  {
   "cell_type": "code",
   "execution_count": null,
   "id": "93e188d9",
   "metadata": {},
   "outputs": [],
   "source": []
  }
 ],
 "metadata": {
  "kernelspec": {
   "display_name": "Python 3 (ipykernel)",
   "language": "python",
   "name": "python3"
  },
  "language_info": {
   "codemirror_mode": {
    "name": "ipython",
    "version": 3
   },
   "file_extension": ".py",
   "mimetype": "text/x-python",
   "name": "python",
   "nbconvert_exporter": "python",
   "pygments_lexer": "ipython3",
   "version": "3.11.5"
  }
 },
 "nbformat": 4,
 "nbformat_minor": 5
}
